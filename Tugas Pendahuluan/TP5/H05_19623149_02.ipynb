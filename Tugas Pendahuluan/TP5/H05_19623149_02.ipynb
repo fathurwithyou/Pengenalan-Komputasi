{
 "cells": [
  {
   "cell_type": "code",
   "execution_count": null,
   "id": "0da371fe",
   "metadata": {},
   "outputs": [],
   "source": [
    "# NIM/Nama      : 19623149/Muhammad Fathur Rizky\n",
    "# Tanggal       : 6 November 2023\n",
    "# Deskripsi     : Program disediakan file data \"H05.csv\" lalu program menuliskan jawaban dari tugas yang diberikan"
   ]
  },
  {
   "cell_type": "markdown",
   "id": "9546f775",
   "metadata": {},
   "source": [
    "# Problem 2"
   ]
  },
  {
   "cell_type": "markdown",
   "id": "6e6ac592",
   "metadata": {},
   "source": [
    "## Import Required Modules"
   ]
  },
  {
   "cell_type": "code",
   "execution_count": 1,
   "id": "5ba64432",
   "metadata": {},
   "outputs": [],
   "source": [
    "import pandas as pd\n",
    "import matplotlib.pyplot as plt\n",
    "\n",
    "df = pd.read_csv('H05.csv')"
   ]
  },
  {
   "cell_type": "markdown",
   "id": "e667b448",
   "metadata": {},
   "source": [
    "### No 1"
   ]
  },
  {
   "cell_type": "code",
   "execution_count": 7,
   "id": "8c2e7bf4",
   "metadata": {},
   "outputs": [
    {
     "data": {
      "text/html": [
       "<div>\n",
       "<style scoped>\n",
       "    .dataframe tbody tr th:only-of-type {\n",
       "        vertical-align: middle;\n",
       "    }\n",
       "\n",
       "    .dataframe tbody tr th {\n",
       "        vertical-align: top;\n",
       "    }\n",
       "\n",
       "    .dataframe thead th {\n",
       "        text-align: right;\n",
       "    }\n",
       "</style>\n",
       "<table border=\"1\" class=\"dataframe\">\n",
       "  <thead>\n",
       "    <tr style=\"text-align: right;\">\n",
       "      <th></th>\n",
       "      <th>nama</th>\n",
       "      <th>fakultas</th>\n",
       "      <th>nilai_mat</th>\n",
       "      <th>nilai_kim</th>\n",
       "      <th>nilai_fis</th>\n",
       "    </tr>\n",
       "  </thead>\n",
       "  <tbody>\n",
       "    <tr>\n",
       "      <th>3513</th>\n",
       "      <td>Tuan Ric</td>\n",
       "      <td>STEI</td>\n",
       "      <td>96.78</td>\n",
       "      <td>62.23</td>\n",
       "      <td>30.53</td>\n",
       "    </tr>\n",
       "  </tbody>\n",
       "</table>\n",
       "</div>"
      ],
      "text/plain": [
       "          nama fakultas  nilai_mat  nilai_kim  nilai_fis\n",
       "3513  Tuan Ric     STEI      96.78      62.23      30.53"
      ]
     },
     "execution_count": 7,
     "metadata": {},
     "output_type": "execute_result"
    }
   ],
   "source": [
    "df.loc[df['nama'] == 'Tuan Ric']"
   ]
  },
  {
   "cell_type": "markdown",
   "id": "c6893673",
   "metadata": {},
   "source": [
    "### No 2"
   ]
  },
  {
   "cell_type": "code",
   "execution_count": 9,
   "id": "588afddc",
   "metadata": {},
   "outputs": [
    {
     "data": {
      "text/html": [
       "<div>\n",
       "<style scoped>\n",
       "    .dataframe tbody tr th:only-of-type {\n",
       "        vertical-align: middle;\n",
       "    }\n",
       "\n",
       "    .dataframe tbody tr th {\n",
       "        vertical-align: top;\n",
       "    }\n",
       "\n",
       "    .dataframe thead th {\n",
       "        text-align: right;\n",
       "    }\n",
       "</style>\n",
       "<table border=\"1\" class=\"dataframe\">\n",
       "  <thead>\n",
       "    <tr style=\"text-align: right;\">\n",
       "      <th></th>\n",
       "      <th>nama</th>\n",
       "      <th>fakultas</th>\n",
       "      <th>nilai_mat</th>\n",
       "      <th>nilai_kim</th>\n",
       "      <th>nilai_fis</th>\n",
       "    </tr>\n",
       "  </thead>\n",
       "  <tbody>\n",
       "    <tr>\n",
       "      <th>1936</th>\n",
       "      <td>Yuniar Fazriani Rusmana</td>\n",
       "      <td>FITB</td>\n",
       "      <td>53.61</td>\n",
       "      <td>67.19</td>\n",
       "      <td>92.57</td>\n",
       "    </tr>\n",
       "  </tbody>\n",
       "</table>\n",
       "</div>"
      ],
      "text/plain": [
       "                         nama fakultas  nilai_mat  nilai_kim  nilai_fis\n",
       "1936  Yuniar Fazriani Rusmana     FITB      53.61      67.19      92.57"
      ]
     },
     "execution_count": 9,
     "metadata": {},
     "output_type": "execute_result"
    }
   ],
   "source": [
    "imax = df['nilai_fis'].idxmax()\n",
    "df.iloc[imax:imax + 1]"
   ]
  },
  {
   "cell_type": "markdown",
   "id": "4fb628a1",
   "metadata": {},
   "source": [
    "### No 3"
   ]
  },
  {
   "cell_type": "code",
   "execution_count": 12,
   "id": "09657ffe",
   "metadata": {},
   "outputs": [
    {
     "data": {
      "text/html": [
       "<div>\n",
       "<style scoped>\n",
       "    .dataframe tbody tr th:only-of-type {\n",
       "        vertical-align: middle;\n",
       "    }\n",
       "\n",
       "    .dataframe tbody tr th {\n",
       "        vertical-align: top;\n",
       "    }\n",
       "\n",
       "    .dataframe thead th {\n",
       "        text-align: right;\n",
       "    }\n",
       "</style>\n",
       "<table border=\"1\" class=\"dataframe\">\n",
       "  <thead>\n",
       "    <tr style=\"text-align: right;\">\n",
       "      <th></th>\n",
       "      <th>nama</th>\n",
       "      <th>fakultas</th>\n",
       "      <th>nilai_mat</th>\n",
       "      <th>nilai_kim</th>\n",
       "      <th>nilai_fis</th>\n",
       "    </tr>\n",
       "  </thead>\n",
       "  <tbody>\n",
       "    <tr>\n",
       "      <th>2554</th>\n",
       "      <td>Faathir Reza Avicena</td>\n",
       "      <td>FTSL</td>\n",
       "      <td>57.12</td>\n",
       "      <td>81.50</td>\n",
       "      <td>78.68</td>\n",
       "    </tr>\n",
       "    <tr>\n",
       "      <th>2779</th>\n",
       "      <td>Dinda A A Z Mundakir</td>\n",
       "      <td>STEI</td>\n",
       "      <td>41.18</td>\n",
       "      <td>81.34</td>\n",
       "      <td>82.60</td>\n",
       "    </tr>\n",
       "    <tr>\n",
       "      <th>3544</th>\n",
       "      <td>Tammya Ayu Purnomo</td>\n",
       "      <td>SITHS</td>\n",
       "      <td>74.49</td>\n",
       "      <td>81.20</td>\n",
       "      <td>78.58</td>\n",
       "    </tr>\n",
       "    <tr>\n",
       "      <th>4934</th>\n",
       "      <td>Alyssa Nadhira Windari</td>\n",
       "      <td>FTMD</td>\n",
       "      <td>78.38</td>\n",
       "      <td>78.83</td>\n",
       "      <td>78.68</td>\n",
       "    </tr>\n",
       "    <tr>\n",
       "      <th>1137</th>\n",
       "      <td>Izni Nur Ibrahim</td>\n",
       "      <td>STEI</td>\n",
       "      <td>56.70</td>\n",
       "      <td>78.46</td>\n",
       "      <td>84.34</td>\n",
       "    </tr>\n",
       "    <tr>\n",
       "      <th>2262</th>\n",
       "      <td>Rinaldi Oky Setiawan</td>\n",
       "      <td>STEI</td>\n",
       "      <td>71.22</td>\n",
       "      <td>77.44</td>\n",
       "      <td>83.66</td>\n",
       "    </tr>\n",
       "    <tr>\n",
       "      <th>4070</th>\n",
       "      <td>Ias Azhari Rezkyarno</td>\n",
       "      <td>FMIPA</td>\n",
       "      <td>62.85</td>\n",
       "      <td>76.90</td>\n",
       "      <td>81.52</td>\n",
       "    </tr>\n",
       "    <tr>\n",
       "      <th>2945</th>\n",
       "      <td>Klara Petra T T</td>\n",
       "      <td>FTSL</td>\n",
       "      <td>73.39</td>\n",
       "      <td>76.61</td>\n",
       "      <td>78.12</td>\n",
       "    </tr>\n",
       "    <tr>\n",
       "      <th>1788</th>\n",
       "      <td>Naudy Germanimo Laksmana</td>\n",
       "      <td>FTMD</td>\n",
       "      <td>62.29</td>\n",
       "      <td>76.38</td>\n",
       "      <td>76.15</td>\n",
       "    </tr>\n",
       "    <tr>\n",
       "      <th>1310</th>\n",
       "      <td>Mardliyahtur Rohmah</td>\n",
       "      <td>STEI</td>\n",
       "      <td>63.15</td>\n",
       "      <td>76.36</td>\n",
       "      <td>74.06</td>\n",
       "    </tr>\n",
       "  </tbody>\n",
       "</table>\n",
       "</div>"
      ],
      "text/plain": [
       "                          nama fakultas  nilai_mat  nilai_kim  nilai_fis\n",
       "2554      Faathir Reza Avicena     FTSL      57.12      81.50      78.68\n",
       "2779      Dinda A A Z Mundakir     STEI      41.18      81.34      82.60\n",
       "3544        Tammya Ayu Purnomo    SITHS      74.49      81.20      78.58\n",
       "4934    Alyssa Nadhira Windari     FTMD      78.38      78.83      78.68\n",
       "1137          Izni Nur Ibrahim     STEI      56.70      78.46      84.34\n",
       "2262      Rinaldi Oky Setiawan     STEI      71.22      77.44      83.66\n",
       "4070      Ias Azhari Rezkyarno    FMIPA      62.85      76.90      81.52\n",
       "2945           Klara Petra T T     FTSL      73.39      76.61      78.12\n",
       "1788  Naudy Germanimo Laksmana     FTMD      62.29      76.38      76.15\n",
       "1310       Mardliyahtur Rohmah     STEI      63.15      76.36      74.06"
      ]
     },
     "execution_count": 12,
     "metadata": {},
     "output_type": "execute_result"
    }
   ],
   "source": [
    "df.sort_values(['nilai_kim'], ascending=[0]).head(10)"
   ]
  },
  {
   "cell_type": "markdown",
   "id": "f1631308",
   "metadata": {},
   "source": [
    "### No 4"
   ]
  },
  {
   "cell_type": "code",
   "execution_count": 20,
   "id": "f00a4af4",
   "metadata": {},
   "outputs": [
    {
     "data": {
      "text/plain": [
       "329"
      ]
     },
     "execution_count": 20,
     "metadata": {},
     "output_type": "execute_result"
    }
   ],
   "source": [
    "len(df[df['nilai_mat'] < 50])"
   ]
  },
  {
   "cell_type": "markdown",
   "id": "675dca01",
   "metadata": {},
   "source": [
    "### No 5"
   ]
  },
  {
   "cell_type": "code",
   "execution_count": 19,
   "id": "dd13a5c1",
   "metadata": {},
   "outputs": [
    {
     "data": {
      "text/plain": [
       "627"
      ]
     },
     "execution_count": 19,
     "metadata": {},
     "output_type": "execute_result"
    }
   ],
   "source": [
    "len(df[df['fakultas'] == 'FMIPA'])"
   ]
  }
 ],
 "metadata": {
  "kernelspec": {
   "display_name": "Python 3 (ipykernel)",
   "language": "python",
   "name": "python3"
  },
  "language_info": {
   "codemirror_mode": {
    "name": "ipython",
    "version": 3
   },
   "file_extension": ".py",
   "mimetype": "text/x-python",
   "name": "python",
   "nbconvert_exporter": "python",
   "pygments_lexer": "ipython3",
   "version": "3.11.4"
  }
 },
 "nbformat": 4,
 "nbformat_minor": 5
}
